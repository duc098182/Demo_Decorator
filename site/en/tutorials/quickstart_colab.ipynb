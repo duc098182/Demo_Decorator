{
  "cells": [
    {
      "cell_type": "markdown",
      "metadata": {
        "id": "view-in-github",
        "colab_type": "text"
      },
      "source": [
        "<a href=\"https://colab.research.google.com/github/duc098182/Demo_Decorator/blob/main/site/en/tutorials/quickstart_colab.ipynb\" target=\"_parent\"><img src=\"https://colab.research.google.com/assets/colab-badge.svg\" alt=\"Open In Colab\"/></a>"
      ]
    },
    {
      "cell_type": "markdown",
      "metadata": {
        "id": "Tce3stUlHN0L"
      },
      "source": [
        "##### Copyright 2024 Google LLC."
      ]
    },
    {
      "cell_type": "code",
      "execution_count": null,
      "metadata": {
        "id": "tuOe1ymfHZPu"
      },
      "outputs": [],
      "source": [
        "#@title Licensed under the Apache License, Version 2.0 (the \"License\");\n",
        "# you may not use this file except in compliance with the License.\n",
        "# You may obtain a copy of the License at\n",
        "#\n",
        "# https://www.apache.org/licenses/LICENSE-2.0\n",
        "#\n",
        "# Unless required by applicable law or agreed to in writing, software\n",
        "# distributed under the License is distributed on an \"AS IS\" BASIS,\n",
        "# WITHOUT WARRANTIES OR CONDITIONS OF ANY KIND, either express or implied.\n",
        "# See the License for the specific language governing permissions and\n",
        "# limitations under the License."
      ]
    },
    {
      "cell_type": "markdown",
      "metadata": {
        "id": "-QhPWE1lwZHH"
      },
      "source": [
        "# Gemini API Python quickstart"
      ]
    },
    {
      "cell_type": "markdown",
      "metadata": {
        "id": "fa7c47ae6451"
      },
      "source": [
        "<table class=\"tfo-notebook-buttons\" align=\"left\">\n",
        "  <td>\n",
        "    <a target=\"_blank\" href=\"https://ai.google.dev/tutorials/quickstart_colab\"><img src=\"https://ai.google.dev/static/site-assets/images/docs/notebook-site-button.png\" height=\"32\" width=\"32\" />View on Google AI</a>\n",
        "  </td>\n",
        "  <td>\n",
        "    <a target=\"_blank\" href=\"https://colab.research.google.com/github/google/generative-ai-docs/blob/main/site/en/tutorials/quickstart_colab.ipynb\"><img src=\"https://www.tensorflow.org/images/colab_logo_32px.png\" />Run in Google Colab</a>\n",
        "  </td>\n",
        "  <td>\n",
        "    <a target=\"_blank\" href=\"https://github.com/google/generative-ai-docs/blob/main/site/en/tutorials/quickstart_colab.ipynb\"><img src=\"https://www.tensorflow.org/images/GitHub-Mark-32px.png\" />View source on GitHub</a>\n",
        "  </td>\n",
        "</table>"
      ]
    },
    {
      "cell_type": "markdown",
      "metadata": {
        "id": "db29b8d4247e"
      },
      "source": [
        "This tutorial shows you how to get started with the Gemini API using the Python SDK."
      ]
    },
    {
      "cell_type": "markdown",
      "metadata": {
        "id": "NNNg43Ymw54e"
      },
      "source": [
        "## Prerequisites\n",
        "\n",
        "You can run this tutorial in Google Colab, which doesn't require additional environment configuration.\n",
        "\n",
        "Alternatively, to complete this quickstart locally, see the Python guidance in [Get started with the Gemini API](https://ai.google.dev/tutorials/quickstart)."
      ]
    },
    {
      "cell_type": "markdown",
      "metadata": {
        "id": "kHkHARdb1ZID"
      },
      "source": [
        "## Install the SDK\n",
        "\n",
        "The Python SDK for the Gemini API is contained in the [`google-generativeai`](https://pypi.org/project/google-generativeai/) package. Install the dependency using pip:"
      ]
    },
    {
      "cell_type": "code",
      "execution_count": 1,
      "metadata": {
        "id": "J6Pd9SFJ1yVi"
      },
      "outputs": [],
      "source": [
        "!pip install -q -U google-generativeai"
      ]
    },
    {
      "cell_type": "markdown",
      "metadata": {
        "id": "EeMCtmx9ykyx"
      },
      "source": [
        "## Set up your API key\n",
        "\n",
        "To use the Gemini API, you'll need an API key. If you don't already have one, create a key in Google AI Studio.\n",
        "\n",
        "<a class=\"button\" href=\"https://aistudio.google.com/app/apikey\" target=\"_blank\" rel=\"noopener noreferrer\">Get an API key</a>\n",
        "\n",
        "In Colab, add the key to the secrets manager under the \"🔑\" in the left panel. Give it the name `GOOGLE_API_KEY`. Then pass the key to the SDK:"
      ]
    },
    {
      "cell_type": "code",
      "execution_count": 3,
      "metadata": {
        "id": "HTiaTu6O1LRC"
      },
      "outputs": [],
      "source": [
        "# Import the Python SDK\n",
        "import google.generativeai as genai\n",
        "# Used to securely store your API key\n",
        "from google.colab import userdata\n",
        "\n",
        "GOOGLE_API_KEY=userdata.get('GOOGLE_API_KEY')\n",
        "genai.configure(api_key=GOOGLE_API_KEY)"
      ]
    },
    {
      "cell_type": "markdown",
      "metadata": {
        "id": "CZPYk29o2No0"
      },
      "source": [
        "## Initialize the Generative Model\n",
        "\n",
        "Before you can make any API calls, you need to initialize the Generative Model."
      ]
    },
    {
      "cell_type": "code",
      "execution_count": 4,
      "metadata": {
        "id": "s-JqXcDe2hZ_"
      },
      "outputs": [],
      "source": [
        "model = genai.GenerativeModel('gemini-pro')"
      ]
    },
    {
      "cell_type": "markdown",
      "metadata": {
        "id": "nXxypzJH4MUl"
      },
      "source": [
        "## Generate text"
      ]
    },
    {
      "cell_type": "code",
      "execution_count": 5,
      "metadata": {
        "id": "j51mcrLD4Y2W",
        "outputId": "dd30d9c1-6d44-4aad-ad0b-52d29657f458",
        "colab": {
          "base_uri": "https://localhost:8080/",
          "height": 383
        }
      },
      "outputs": [
        {
          "output_type": "stream",
          "name": "stdout",
          "text": [
            "In the bustling town of Willow Creek, amidst the quaint cobblestone streets and charming facades, resided a young schoolgirl named Anya. Little did she know that her ordinary life was about to take an extraordinary turn when she inherited a mysterious backpack from her eccentric great-aunt.\n",
            "\n",
            "Adorned with intricate leatherwork and shimmering buckles, the backpack seemed unassuming at first glance. But as Anya unzipped it, a kaleidoscope of vibrant colors and otherworldly patterns danced before her eyes. Curiosity sparked within her as she reached inside and her fingers brushed against something soft and pulsating.\n",
            "\n",
            "To her astonishment, it was a tiny, heart-shaped stone that glowed with an ethereal blue light. As she held it in her palm, she felt a surge of warmth and a strange tingling sensation coursing through her body. Suddenly, the backpack transformed before her very eyes.\n",
            "\n",
            "The straps extended and wrapped around her like a comforting embrace, the compartments expanded into seemingly infinite chambers, and every pocket seemed to possess its own unique abilities. Anya could now summon books out of thin air, her homework miraculously completed itself, and her favorite toys appeared whenever she wished.\n",
            "\n",
            "At first, Anya reveled in the magic at her fingertips. She could skip to school without trudging, balance effortlessly on her bicycle, and even outwit her mischievous classmates with clever gadgets that seemed to materialize from nowhere. However, as time went on, a sense of unease began to creep into her heart.\n",
            "\n",
            "The backpack's powers came at a price. Anya realized that with each use of its magic, the heart-shaped stone grew dimmer. Worse yet, the backpack seemed to possess a will of its own, occasionally making decisions that left her feeling out of control.\n",
            "\n",
            "One fateful day, as Anya was practicing her flute in the park, the backpack suddenly started playing a raucous symphony of its own. Passersby stopped to stare in bewilderment and laughter, embarrassing Anya beyond belief. It was then that she understood the true nature of her inheritance.\n",
            "\n",
            "The backpack was not just a tool of convenience but a living entity with its own agenda. It could bestow great power, but it also demanded a heavy sacrifice. Each time Anya succumbed to its alluring abilities, she risked losing a part of herself.\n",
            "\n",
            "Torn between the tempting allure of magic and the preservation of her integrity, Anya made a courageous decision. She thanked the背包 for its time and, with a heavy heart, returned the heart-shaped stone to its chamber. As she sealed the backpack away in a forgotten corner of her attic, she knew that she had made the right choice.\n",
            "\n",
            "From that day forward, Anya found fulfillment in the ordinary. She discovered joy in the simple pleasures of life and the power of human connection. And though the magic背包 remained out of reach, its memory served as a constant reminder that true happiness lay not in external possessions but within the magic that resided in her own heart.\n"
          ]
        }
      ],
      "source": [
        "response = model.generate_content(\"Write a story about a magic backpack.\")\n",
        "print(response.text)"
      ]
    },
    {
      "cell_type": "code",
      "source": [
        "response = model.generate_content(\"Cho tôi một danh sách các phim hành động kèm với ảnh/bìa của bộ phim đó\")\n",
        "print(response)"
      ],
      "metadata": {
        "id": "xG3RWqDJearM",
        "outputId": "70a14ab7-559b-4667-9c16-f7c3edb426d3",
        "colab": {
          "base_uri": "https://localhost:8080/",
          "height": 839
        }
      },
      "execution_count": 6,
      "outputs": [
        {
          "output_type": "stream",
          "name": "stdout",
          "text": [
            "response:\n",
            "GenerateContentResponse(\n",
            "    done=True,\n",
            "    iterator=None,\n",
            "    result=protos.GenerateContentResponse({\n",
            "      \"candidates\": [\n",
            "        {\n",
            "          \"content\": {\n",
            "            \"parts\": [\n",
            "              {\n",
            "                \"text\": \"**Phim h\\u00e0nh \\u0111\\u1ed9ng v\\u1edbi \\u1ea3nh/b\\u00eca**\\n\\n**1. John Wick (2014)**\\n[Image of John Wick, a stoic assassin with a gun in his hand]\\n\\n**2. The Matrix (1999)**\\n[Image of Neo, the protagonist of the film, dodging bullets in slow motion]\\n\\n**3. Die Hard (1988)**\\n[Image of John McClane, a police officer trapped in a skyscraper under siege]\\n\\n**4. Rambo: First Blood (1982)**\\n[Image of Rambo, a Vietnam War veteran, holding a knife and standing in front of a burning forest]\\n\\n**5. Terminator 2: Judgment Day (1991)**\\n[Image of the Terminator, a cyborg assassin, riding a motorcycle]\\n\\n**6. Mission: Impossible - Fallout (2018)**\\n[Image of Ethan Hunt, a spy, hanging off the side of a building]\\n\\n**7. The Bourne Identity (2002)**\\n[Image of Jason Bourne, a former CIA assassin, running from pursuers]\\n\\n**8. Fast & Furious 6 (2013)**\\n[Image of a group of cars racing on a highway]\\n\\n**9. The Raid: Redemption (2011)**\\n[Image of a group of police officers storming a crime-ridden apartment building]\\n\\n**10. Mad Max: Fury Road (2015)**\\n[Image of Furiosa, a female warrior, driving a war rig through a desert]\"\n",
            "              }\n",
            "            ],\n",
            "            \"role\": \"model\"\n",
            "          },\n",
            "          \"finish_reason\": \"STOP\",\n",
            "          \"index\": 0,\n",
            "          \"safety_ratings\": [\n",
            "            {\n",
            "              \"category\": \"HARM_CATEGORY_SEXUALLY_EXPLICIT\",\n",
            "              \"probability\": \"NEGLIGIBLE\"\n",
            "            },\n",
            "            {\n",
            "              \"category\": \"HARM_CATEGORY_HATE_SPEECH\",\n",
            "              \"probability\": \"NEGLIGIBLE\"\n",
            "            },\n",
            "            {\n",
            "              \"category\": \"HARM_CATEGORY_HARASSMENT\",\n",
            "              \"probability\": \"NEGLIGIBLE\"\n",
            "            },\n",
            "            {\n",
            "              \"category\": \"HARM_CATEGORY_DANGEROUS_CONTENT\",\n",
            "              \"probability\": \"NEGLIGIBLE\"\n",
            "            }\n",
            "          ]\n",
            "        }\n",
            "      ],\n",
            "      \"usage_metadata\": {\n",
            "        \"prompt_token_count\": 20,\n",
            "        \"candidates_token_count\": 328,\n",
            "        \"total_token_count\": 348\n",
            "      }\n",
            "    }),\n",
            ")\n"
          ]
        }
      ]
    },
    {
      "cell_type": "code",
      "source": [
        "print(response.text)"
      ],
      "metadata": {
        "id": "sf3nvJsSioOi",
        "outputId": "4e2b8e0c-fafb-40df-806b-f802d83d1c55",
        "colab": {
          "base_uri": "https://localhost:8080/"
        }
      },
      "execution_count": 7,
      "outputs": [
        {
          "output_type": "stream",
          "name": "stdout",
          "text": [
            "**Phim hành động với ảnh/bìa**\n",
            "\n",
            "**1. John Wick (2014)**\n",
            "[Image of John Wick, a stoic assassin with a gun in his hand]\n",
            "\n",
            "**2. The Matrix (1999)**\n",
            "[Image of Neo, the protagonist of the film, dodging bullets in slow motion]\n",
            "\n",
            "**3. Die Hard (1988)**\n",
            "[Image of John McClane, a police officer trapped in a skyscraper under siege]\n",
            "\n",
            "**4. Rambo: First Blood (1982)**\n",
            "[Image of Rambo, a Vietnam War veteran, holding a knife and standing in front of a burning forest]\n",
            "\n",
            "**5. Terminator 2: Judgment Day (1991)**\n",
            "[Image of the Terminator, a cyborg assassin, riding a motorcycle]\n",
            "\n",
            "**6. Mission: Impossible - Fallout (2018)**\n",
            "[Image of Ethan Hunt, a spy, hanging off the side of a building]\n",
            "\n",
            "**7. The Bourne Identity (2002)**\n",
            "[Image of Jason Bourne, a former CIA assassin, running from pursuers]\n",
            "\n",
            "**8. Fast & Furious 6 (2013)**\n",
            "[Image of a group of cars racing on a highway]\n",
            "\n",
            "**9. The Raid: Redemption (2011)**\n",
            "[Image of a group of police officers storming a crime-ridden apartment building]\n",
            "\n",
            "**10. Mad Max: Fury Road (2015)**\n",
            "[Image of Furiosa, a female warrior, driving a war rig through a desert]\n"
          ]
        }
      ]
    },
    {
      "cell_type": "code",
      "source": [
        "import requests\n",
        "from bs4 import BeautifulSoup"
      ],
      "metadata": {
        "id": "YnlUlAE3kLZR"
      },
      "execution_count": 9,
      "outputs": []
    },
    {
      "cell_type": "code",
      "source": [
        "def search_image(query):\n",
        "  url = f\"https://www.google.com/search?q={query}&tbm=isch\"\n",
        "  response = requests.get(url)\n",
        "  soup = BeautifulSoup(response.content, 'html.parser')\n",
        "  images = soup.find_all('img')\n",
        "\n",
        "  for image in images:\n",
        "    print(image['src'])\n",
        "\n",
        "# Ví dụ tìm kiếm hình ảnh về \"cat\"\n",
        "search_image(\"John Wick poster\")"
      ],
      "metadata": {
        "id": "8JREWMbUkDXL",
        "outputId": "2ce4eba0-f444-4e49-8635-66a7c2d53526",
        "colab": {
          "base_uri": "https://localhost:8080/"
        }
      },
      "execution_count": 12,
      "outputs": [
        {
          "output_type": "stream",
          "name": "stdout",
          "text": [
            "/images/branding/searchlogo/1x/googlelogo_desk_heirloom_color_150x55dp.gif\n",
            "https://encrypted-tbn0.gstatic.com/images?q=tbn:ANd9GcRigXH-FH23fjADj11jmHdKj-0IJlmsYN4xOyOCLbIAF_WqurtVsOQbzh8bZw&s\n",
            "https://encrypted-tbn0.gstatic.com/images?q=tbn:ANd9GcRm_HAs_PsXYUpW1Z2WTdzi3ceDpOCozxT60VMIXfRD_LyQ2UgSHavwMN75lg&s\n",
            "https://encrypted-tbn0.gstatic.com/images?q=tbn:ANd9GcTPBVQHaEHKe4qIp0RFufQbrWk6Kv-z9qAMwUxZFVx_gmYDMl5kX5zJBifhY1U&s\n",
            "https://encrypted-tbn0.gstatic.com/images?q=tbn:ANd9GcRi0e2_g2jdgpTCLGrVy1JhxExQ1DaueRNLFCocCzAcEfbDW5KXBQvi1RVPeg&s\n",
            "https://encrypted-tbn0.gstatic.com/images?q=tbn:ANd9GcS0UwLPdegsNpV4BiXdahIH-8n8-qgVvbRcdp1LJJ5HB3tq1E7zx6T61_mKP8Q&s\n",
            "https://encrypted-tbn0.gstatic.com/images?q=tbn:ANd9GcRpcmh4uskb155f6huBaRn5xcp8eXcdPicx0YOkJlMXgAAr_Q-KCrxrtcz3YA&s\n",
            "https://encrypted-tbn0.gstatic.com/images?q=tbn:ANd9GcTX_EJKUI-5CHeM4tIlTrYA_kWUKtGOjvdZFmtW5WeicVbuU8B48E6KyuylVA&s\n",
            "https://encrypted-tbn0.gstatic.com/images?q=tbn:ANd9GcSF6HKmjokySU_PotZv0wO_oS5V3799XXaYgHiewr2rEj-GIejgUiXONGCjZZg&s\n",
            "https://encrypted-tbn0.gstatic.com/images?q=tbn:ANd9GcTld8IiTMsLXMXJo_JOBO0J9w95V-r4CLbAQWxLRfvj3nW_m4Gs_dPxmOlrIA&s\n",
            "https://encrypted-tbn0.gstatic.com/images?q=tbn:ANd9GcTvLnP4uAykF2ZKzkyz4zNuLlPHAdobAJi6JzR-RMS0IBTxHejeRwEn1ozif1g&s\n",
            "https://encrypted-tbn0.gstatic.com/images?q=tbn:ANd9GcSOwxYq3rSrWf4Tk4zm1j17IFOgAjRaKcJj2SHswKqCU1P8UeqPSrulVDyhyg&s\n",
            "https://encrypted-tbn0.gstatic.com/images?q=tbn:ANd9GcQcpySYanNQvcZS47yDsYhv5ThKQwHh5b1seSKIo8Y04ASMPS3m0OAcSTppNQ&s\n",
            "https://encrypted-tbn0.gstatic.com/images?q=tbn:ANd9GcSYfR6CGniJLEzo2vrfOJ4J-G9WyD_Wf1hs48IqRcKPX4Mj3GdGRSwnyKEdd7o&s\n",
            "https://encrypted-tbn0.gstatic.com/images?q=tbn:ANd9GcS3-POMgdY50ZSX9vHJyEc8HGEQPKCFlTHsWLYQEOTBgs1WxH3lQyXI--8ZAg&s\n",
            "https://encrypted-tbn0.gstatic.com/images?q=tbn:ANd9GcQ5G2d4fg1SD49SppiqB2RdWRO7kDwc1o2tZNWRF8fxMz_aZBgyA346_GRYJw&s\n",
            "https://encrypted-tbn0.gstatic.com/images?q=tbn:ANd9GcQnCuObeTc5Ebbf26jR77gc_1eYE4ZXCFKE6ZRJMQ8jfYFAFPmcNeQBXz-z9A&s\n",
            "https://encrypted-tbn0.gstatic.com/images?q=tbn:ANd9GcTHmDxybVi1uTD2AkFuW4NkCgytmsEbPhActzg-2VuNm_Il6-SouKlELp2EKA&s\n",
            "https://encrypted-tbn0.gstatic.com/images?q=tbn:ANd9GcTxnx87bqyb0IJd8nV6MZsz4EyQPGdBa4_7c8x1MAtI6_YyhElZLcRMJWvjUVg&s\n",
            "https://encrypted-tbn0.gstatic.com/images?q=tbn:ANd9GcTC-b0sT2TxvdDX2NXS9HH8HhQ_6t6WQ75sLuhv-wLsfHjSAnuE_IOIcuVekQ&s\n"
          ]
        }
      ]
    },
    {
      "cell_type": "markdown",
      "metadata": {
        "id": "zUUAQS9u4biH"
      },
      "source": [
        "## What's next\n",
        "\n",
        "To learn more about working with the Gemini API, see the [Python tutorial](https://ai.google.dev/tutorials/python_quickstart).\n",
        "\n",
        "If you're new to generative AI models, you might want to look at the\n",
        "[concepts guide](https://ai.google.dev/docs/concepts) and the\n",
        "[Gemini API overview](https://ai.google.dev/docs/gemini_api_overview)."
      ]
    }
  ],
  "metadata": {
    "colab": {
      "name": "quickstart_colab.ipynb",
      "provenance": [],
      "include_colab_link": true
    },
    "kernelspec": {
      "display_name": "Python 3",
      "name": "python3"
    }
  },
  "nbformat": 4,
  "nbformat_minor": 0
}